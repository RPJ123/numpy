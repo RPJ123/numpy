{
  "nbformat": 4,
  "nbformat_minor": 0,
  "metadata": {
    "colab": {
      "provenance": [],
      "authorship_tag": "ABX9TyM7xJyfkY6g3BvUQ4ZRVMdm",
      "include_colab_link": true
    },
    "kernelspec": {
      "name": "python3",
      "display_name": "Python 3"
    },
    "language_info": {
      "name": "python"
    }
  },
  "cells": [
    {
      "cell_type": "markdown",
      "metadata": {
        "id": "view-in-github",
        "colab_type": "text"
      },
      "source": [
        "<a href=\"https://colab.research.google.com/github/RPJ123/numpy/blob/main/numpy.ipynb\" target=\"_parent\"><img src=\"https://colab.research.google.com/assets/colab-badge.svg\" alt=\"Open In Colab\"/></a>"
      ]
    },
    {
      "cell_type": "code",
      "execution_count": 3,
      "metadata": {
        "colab": {
          "base_uri": "https://localhost:8080/"
        },
        "id": "5iLJMHXTFgQ9",
        "outputId": "95b3e6f2-df7a-4fb3-a606-e7e73557145f"
      },
      "outputs": [
        {
          "output_type": "stream",
          "name": "stdout",
          "text": [
            "[1. 2. 3. 4.]\n"
          ]
        }
      ],
      "source": [
        "import numpy as np #numerical python\n",
        "\n",
        "#arrray collection of data with same datatype(Homogenious)\n",
        "\n",
        "\n",
        "a=np.array([1,2,3.0,4]) #in array the data type is homogeneious\n",
        "print(a)"
      ]
    },
    {
      "cell_type": "code",
      "source": [
        "\n",
        "a=np.array([1,2,3.0,4,\"a\"])\n",
        "print(a)"
      ],
      "metadata": {
        "colab": {
          "base_uri": "https://localhost:8080/"
        },
        "id": "mnVuhSBmHddQ",
        "outputId": "ef45dbf9-fd8a-47ab-900f-4387963b5e9f"
      },
      "execution_count": 4,
      "outputs": [
        {
          "output_type": "stream",
          "name": "stdout",
          "text": [
            "['1' '2' '3.0' '4' 'a']\n"
          ]
        }
      ]
    },
    {
      "cell_type": "code",
      "source": [
        "#slicing forward slicing backward slicing\n",
        "\n",
        "\n",
        "b=np.array([1,2,3,4,5])\n",
        "\n",
        "print(b[0:2])\n",
        "print(b[-1:-3:-1])\n",
        "print(b[3:])\n",
        "print(b[-4::-1])"
      ],
      "metadata": {
        "colab": {
          "base_uri": "https://localhost:8080/"
        },
        "id": "SNlQA_0DHksF",
        "outputId": "03a44369-b443-4314-f061-341bc0bb2ff7"
      },
      "execution_count": 5,
      "outputs": [
        {
          "output_type": "stream",
          "name": "stdout",
          "text": [
            "[1 2]\n",
            "[5 4]\n",
            "[4 5]\n",
            "[2 1]\n"
          ]
        }
      ]
    },
    {
      "cell_type": "code",
      "source": [
        "#dimension\n",
        "\n",
        "a=np.array([0,2,3,4,5])#one dimension\n",
        "b=np.array([[1,2],[3,4]]) #two dimnension ->if there are two square brackets within the brackets\n",
        "\n",
        "a.ndim  #ndimension   #if dimension=1 -> vector\n",
        "\n",
        "b.ndim #if dimension==2 -> matrix\n",
        "\n",
        "print(b)\n",
        "\n",
        "b.shape  #to identify the shape -> row*column\n"
      ],
      "metadata": {
        "colab": {
          "base_uri": "https://localhost:8080/"
        },
        "id": "R2YwzF5uJGhV",
        "outputId": "0c85e90e-e0dd-4ed3-81be-d6845d4d3162"
      },
      "execution_count": 6,
      "outputs": [
        {
          "output_type": "stream",
          "name": "stdout",
          "text": [
            "[[1 2]\n",
            " [3 4]]\n"
          ]
        },
        {
          "output_type": "execute_result",
          "data": {
            "text/plain": [
              "(2, 2)"
            ]
          },
          "metadata": {},
          "execution_count": 6
        }
      ]
    },
    {
      "cell_type": "markdown",
      "source": [
        "3 dimension array is called tensor"
      ],
      "metadata": {
        "id": "t6-bIfhPJ2n8"
      }
    },
    {
      "cell_type": "code",
      "source": [
        "#create a 2*2 matrix  [2,3],[4,5]\n",
        "\n",
        "\n",
        "c=np.array([[2,3],[4,5]])\n",
        "c.ndim\n",
        "print(c)\n",
        "print(c.shape)\n",
        "print(c.ndim)  #to find which dimension\n",
        "\n",
        "\n",
        "\n",
        "print(c.size)# to find total number of elements"
      ],
      "metadata": {
        "colab": {
          "base_uri": "https://localhost:8080/"
        },
        "id": "6XaOxi17Jw3s",
        "outputId": "8694bd6e-f235-4c53-d15d-e1a5f9f2da95"
      },
      "execution_count": 7,
      "outputs": [
        {
          "output_type": "stream",
          "name": "stdout",
          "text": [
            "[[2 3]\n",
            " [4 5]]\n",
            "(2, 2)\n",
            "2\n",
            "4\n"
          ]
        }
      ]
    },
    {
      "cell_type": "code",
      "source": [
        "#creaate a two*three  matrix\n",
        "\n",
        "\n",
        "d=np.array([[2,3,4],[4,5,6]])\n",
        "d.ndim\n",
        "print(d)\n",
        "\n",
        "print(d.shape)\n",
        "\n",
        "print(d.ndim)\n",
        "\n",
        "print(d.size)"
      ],
      "metadata": {
        "colab": {
          "base_uri": "https://localhost:8080/"
        },
        "id": "gSRK1RXQKjXQ",
        "outputId": "75b085fc-3251-449b-9b12-55c0efdd465c"
      },
      "execution_count": 8,
      "outputs": [
        {
          "output_type": "stream",
          "name": "stdout",
          "text": [
            "[[2 3 4]\n",
            " [4 5 6]]\n",
            "(2, 3)\n",
            "2\n",
            "6\n"
          ]
        }
      ]
    },
    {
      "cell_type": "code",
      "source": [
        "#create a 4*2 matrix\n",
        "\n",
        "\n",
        "e=np.array([[2,3],[4,5],[5,6],[6,7]])\n",
        "\n",
        "print(e)\n",
        "\n",
        "print(e.shape)\n",
        "\n",
        "print(e.ndim)\n",
        "\n",
        "print(e.size)\n"
      ],
      "metadata": {
        "colab": {
          "base_uri": "https://localhost:8080/"
        },
        "id": "eVzxpTJ-MbRT",
        "outputId": "849a4748-6b6b-4715-f49a-6864a10772f6"
      },
      "execution_count": 9,
      "outputs": [
        {
          "output_type": "stream",
          "name": "stdout",
          "text": [
            "[[2 3]\n",
            " [4 5]\n",
            " [5 6]\n",
            " [6 7]]\n",
            "(4, 2)\n",
            "2\n",
            "8\n"
          ]
        }
      ]
    },
    {
      "cell_type": "code",
      "source": [
        "#create a 4*4 matrix\n",
        "\n",
        "g=np.array([[2,3,4,5],[4,5,6,7],[2,3,4,5],[2,4,5,6]])\n",
        "print(g)\n",
        "\n",
        "print(g.shape)\n",
        "\n",
        "print(g.ndim)\n",
        "\n",
        "print(g.size)"
      ],
      "metadata": {
        "colab": {
          "base_uri": "https://localhost:8080/"
        },
        "id": "eDrksfDENaEn",
        "outputId": "7424eb62-c3c2-49fe-c5c7-b0bd8aa8362f"
      },
      "execution_count": 10,
      "outputs": [
        {
          "output_type": "stream",
          "name": "stdout",
          "text": [
            "[[2 3 4 5]\n",
            " [4 5 6 7]\n",
            " [2 3 4 5]\n",
            " [2 4 5 6]]\n",
            "(4, 4)\n",
            "2\n",
            "16\n"
          ]
        }
      ]
    },
    {
      "cell_type": "markdown",
      "source": [
        "FOR A MATRIX TEH DIMENSION IS ALWAYS 2\n"
      ],
      "metadata": {
        "id": "TaxhSnwLN502"
      }
    },
    {
      "cell_type": "code",
      "source": [
        "g[0]"
      ],
      "metadata": {
        "id": "OwQb5h90N4c7",
        "colab": {
          "base_uri": "https://localhost:8080/"
        },
        "outputId": "ba639b11-2c2d-47f7-d830-db1e71f0df96"
      },
      "execution_count": 11,
      "outputs": [
        {
          "output_type": "execute_result",
          "data": {
            "text/plain": [
              "array([2, 3, 4, 5])"
            ]
          },
          "metadata": {},
          "execution_count": 11
        }
      ]
    },
    {
      "cell_type": "code",
      "source": [
        "g[:,0]"
      ],
      "metadata": {
        "colab": {
          "base_uri": "https://localhost:8080/"
        },
        "id": "HryuAMBiIGKa",
        "outputId": "4abe69b8-2ece-4abf-f269-a9ea8acc003a"
      },
      "execution_count": 12,
      "outputs": [
        {
          "output_type": "execute_result",
          "data": {
            "text/plain": [
              "array([2, 4, 2, 2])"
            ]
          },
          "metadata": {},
          "execution_count": 12
        }
      ]
    },
    {
      "cell_type": "code",
      "source": [
        "g[2,2]"
      ],
      "metadata": {
        "colab": {
          "base_uri": "https://localhost:8080/"
        },
        "id": "8Gx1FYQDINjv",
        "outputId": "e50dba28-0a92-4f3a-9ae7-63715e68e31e"
      },
      "execution_count": 13,
      "outputs": [
        {
          "output_type": "execute_result",
          "data": {
            "text/plain": [
              "np.int64(4)"
            ]
          },
          "metadata": {},
          "execution_count": 13
        }
      ]
    },
    {
      "cell_type": "code",
      "source": [
        "g[3,2:]"
      ],
      "metadata": {
        "colab": {
          "base_uri": "https://localhost:8080/"
        },
        "id": "Y0thFkZdITJe",
        "outputId": "2a82240a-6402-4685-f09f-20aced45bbb6"
      },
      "execution_count": 14,
      "outputs": [
        {
          "output_type": "execute_result",
          "data": {
            "text/plain": [
              "array([5, 6])"
            ]
          },
          "metadata": {},
          "execution_count": 14
        }
      ]
    },
    {
      "cell_type": "code",
      "source": [
        "g[2:,2:]"
      ],
      "metadata": {
        "colab": {
          "base_uri": "https://localhost:8080/"
        },
        "id": "WJZx-XmZIZSS",
        "outputId": "ece5b141-3271-4344-ce29-0ccad4456140"
      },
      "execution_count": 15,
      "outputs": [
        {
          "output_type": "execute_result",
          "data": {
            "text/plain": [
              "array([[4, 5],\n",
              "       [5, 6]])"
            ]
          },
          "metadata": {},
          "execution_count": 15
        }
      ]
    },
    {
      "cell_type": "code",
      "source": [
        "g[0:3,2:]"
      ],
      "metadata": {
        "colab": {
          "base_uri": "https://localhost:8080/"
        },
        "id": "k1uQov9IIh9b",
        "outputId": "2e3f1d27-8192-49c0-9e8b-894b4e1d12c3"
      },
      "execution_count": 16,
      "outputs": [
        {
          "output_type": "execute_result",
          "data": {
            "text/plain": [
              "array([[4, 5],\n",
              "       [6, 7],\n",
              "       [4, 5]])"
            ]
          },
          "metadata": {},
          "execution_count": 16
        }
      ]
    },
    {
      "cell_type": "code",
      "source": [],
      "metadata": {
        "id": "1xa2k3i-JqQZ"
      },
      "execution_count": 16,
      "outputs": []
    },
    {
      "cell_type": "code",
      "source": [
        "g[0:,2]"
      ],
      "metadata": {
        "colab": {
          "base_uri": "https://localhost:8080/"
        },
        "id": "yROfqMOOJDBU",
        "outputId": "f8ebddc2-9b55-4547-e58a-ae52fd6dbcdc"
      },
      "execution_count": 17,
      "outputs": [
        {
          "output_type": "execute_result",
          "data": {
            "text/plain": [
              "array([4, 6, 4, 5])"
            ]
          },
          "metadata": {},
          "execution_count": 17
        }
      ]
    },
    {
      "cell_type": "code",
      "source": [
        "#zero matrix\n",
        "\n",
        "\n",
        "z=np.zeros([3,3,3])\n",
        "print(z)  #by default it is float :it canbe changed into int or complex"
      ],
      "metadata": {
        "colab": {
          "base_uri": "https://localhost:8080/"
        },
        "id": "Dkunzr1vJqs_",
        "outputId": "2399820d-17f2-4675-c5cb-ee91052ff012"
      },
      "execution_count": 18,
      "outputs": [
        {
          "output_type": "stream",
          "name": "stdout",
          "text": [
            "[[[0. 0. 0.]\n",
            "  [0. 0. 0.]\n",
            "  [0. 0. 0.]]\n",
            "\n",
            " [[0. 0. 0.]\n",
            "  [0. 0. 0.]\n",
            "  [0. 0. 0.]]\n",
            "\n",
            " [[0. 0. 0.]\n",
            "  [0. 0. 0.]\n",
            "  [0. 0. 0.]]]\n"
          ]
        }
      ]
    },
    {
      "cell_type": "code",
      "source": [],
      "metadata": {
        "id": "QeoxCfV8Kz7P"
      },
      "execution_count": 18,
      "outputs": []
    },
    {
      "cell_type": "code",
      "source": [
        "\n",
        "z=np.zeros([3,3])\n",
        "print(z)"
      ],
      "metadata": {
        "colab": {
          "base_uri": "https://localhost:8080/"
        },
        "id": "m6yx8NF5J9N0",
        "outputId": "9c31b79a-c03e-4363-dfa6-a7e46e4e7a04"
      },
      "execution_count": 19,
      "outputs": [
        {
          "output_type": "stream",
          "name": "stdout",
          "text": [
            "[[0. 0. 0.]\n",
            " [0. 0. 0.]\n",
            " [0. 0. 0.]]\n"
          ]
        }
      ]
    },
    {
      "cell_type": "code",
      "source": [
        "z=np.zeros([3,3,3],dtype=int)\n",
        "print(z)  #rgb  images are shown in this method"
      ],
      "metadata": {
        "colab": {
          "base_uri": "https://localhost:8080/"
        },
        "id": "TvjwRe4fKCbM",
        "outputId": "25affca5-8914-4149-c74d-535add52fadd"
      },
      "execution_count": 20,
      "outputs": [
        {
          "output_type": "stream",
          "name": "stdout",
          "text": [
            "[[[0 0 0]\n",
            "  [0 0 0]\n",
            "  [0 0 0]]\n",
            "\n",
            " [[0 0 0]\n",
            "  [0 0 0]\n",
            "  [0 0 0]]\n",
            "\n",
            " [[0 0 0]\n",
            "  [0 0 0]\n",
            "  [0 0 0]]]\n"
          ]
        }
      ]
    },
    {
      "cell_type": "code",
      "source": [
        "#create two 2*2 matrix\n",
        "\n",
        "a=np.array([[2,3],[4,5]])\n",
        "\n",
        "b=np.array([[6,7],[3,4]])\n",
        "\n",
        "\n",
        "print(a)\n",
        "print(b)"
      ],
      "metadata": {
        "colab": {
          "base_uri": "https://localhost:8080/"
        },
        "id": "k0pfmtDNKb_k",
        "outputId": "49a7e371-3b6d-4f77-fba6-cc583e49ab4c"
      },
      "execution_count": 21,
      "outputs": [
        {
          "output_type": "stream",
          "name": "stdout",
          "text": [
            "[[2 3]\n",
            " [4 5]]\n",
            "[[6 7]\n",
            " [3 4]]\n"
          ]
        }
      ]
    },
    {
      "cell_type": "code",
      "source": [
        "print(a+b)\n",
        "\n",
        "print(a-b)"
      ],
      "metadata": {
        "colab": {
          "base_uri": "https://localhost:8080/"
        },
        "id": "916xLFkfLbX1",
        "outputId": "b34ea3f2-4154-44fb-cc44-beba5aa8e0ad"
      },
      "execution_count": 22,
      "outputs": [
        {
          "output_type": "stream",
          "name": "stdout",
          "text": [
            "[[ 8 10]\n",
            " [ 7  9]]\n",
            "[[-4 -4]\n",
            " [ 1  1]]\n"
          ]
        }
      ]
    },
    {
      "cell_type": "markdown",
      "source": [
        "print(a*b) #not matrix multiplication\n"
      ],
      "metadata": {
        "id": "9LIYrZXIMr_X"
      }
    },
    {
      "cell_type": "code",
      "source": [
        "\n",
        "\n",
        "\n",
        "print(a@b) #for matrix multiplication\n",
        "\n",
        "print(a.dot(b)) #for matrix multiplication"
      ],
      "metadata": {
        "colab": {
          "base_uri": "https://localhost:8080/"
        },
        "id": "k6QLYCqxMfro",
        "outputId": "3e03b7c7-0628-48b7-df61-0c662ded1fcc"
      },
      "execution_count": 23,
      "outputs": [
        {
          "output_type": "stream",
          "name": "stdout",
          "text": [
            "[[21 26]\n",
            " [39 48]]\n",
            "[[21 26]\n",
            " [39 48]]\n"
          ]
        }
      ]
    },
    {
      "cell_type": "code",
      "source": [
        "print(a/b)"
      ],
      "metadata": {
        "colab": {
          "base_uri": "https://localhost:8080/"
        },
        "id": "A-W8DWraNOwK",
        "outputId": "911dda67-9ac9-4a97-a8b7-1680bf2ff4cb"
      },
      "execution_count": 24,
      "outputs": [
        {
          "output_type": "stream",
          "name": "stdout",
          "text": [
            "[[0.33333333 0.42857143]\n",
            " [1.33333333 1.25      ]]\n"
          ]
        }
      ]
    },
    {
      "cell_type": "markdown",
      "source": [
        "MAGIC FUNCTIONS   \n",
        "\n",
        "__add__,__str__\n",
        "\n"
      ],
      "metadata": {
        "id": "S5Qd1i_gNbdR"
      }
    },
    {
      "cell_type": "code",
      "source": [
        "#FULL MATRIX\n",
        "\n",
        "z=np.full([3,3],5)\n",
        "print(z)"
      ],
      "metadata": {
        "colab": {
          "base_uri": "https://localhost:8080/"
        },
        "id": "aB9k-Yv8NYIA",
        "outputId": "b19d3f23-f98e-4fd0-ef9f-41ae3bfa565c"
      },
      "execution_count": 25,
      "outputs": [
        {
          "output_type": "stream",
          "name": "stdout",
          "text": [
            "[[5 5 5]\n",
            " [5 5 5]\n",
            " [5 5 5]]\n"
          ]
        }
      ]
    },
    {
      "cell_type": "code",
      "source": [
        "#create 3*4 matrix with value 9 and datatype complex\n",
        "z=np.full([3,4],9,dtype=complex)\n",
        "print(z)"
      ],
      "metadata": {
        "colab": {
          "base_uri": "https://localhost:8080/"
        },
        "id": "QzdEURl3OdJo",
        "outputId": "93101454-9d21-404f-95e2-1386e4ca7ad2"
      },
      "execution_count": 26,
      "outputs": [
        {
          "output_type": "stream",
          "name": "stdout",
          "text": [
            "[[9.+0.j 9.+0.j 9.+0.j 9.+0.j]\n",
            " [9.+0.j 9.+0.j 9.+0.j 9.+0.j]\n",
            " [9.+0.j 9.+0.j 9.+0.j 9.+0.j]]\n"
          ]
        }
      ]
    },
    {
      "cell_type": "code",
      "source": [
        "#identity matrix\n",
        "\n",
        "z=np.identity(3,dtype=int)  #here only 3 is given as input as for iedntity matrix it should be square\n",
        "\n",
        "a=np.eye(3) #another method for identity\n",
        "print(z)\n",
        "print(a)"
      ],
      "metadata": {
        "colab": {
          "base_uri": "https://localhost:8080/"
        },
        "id": "LYTNx-46PoIn",
        "outputId": "5d0a9565-ac76-4369-d400-f75bed0d7359"
      },
      "execution_count": 27,
      "outputs": [
        {
          "output_type": "stream",
          "name": "stdout",
          "text": [
            "[[1 0 0]\n",
            " [0 1 0]\n",
            " [0 0 1]]\n",
            "[[1. 0. 0.]\n",
            " [0. 1. 0.]\n",
            " [0. 0. 1.]]\n"
          ]
        }
      ]
    },
    {
      "cell_type": "code",
      "source": [
        "#create a 4*4 matrix\n",
        "\n",
        "\n",
        "\n",
        "d=np.array([[2,3,4,5],[4,5,6,7],[9,8,7,4],[2,5,3,4]])\n",
        "print(d)\n",
        "\n",
        "\n",
        "\n",
        "print(d.size)"
      ],
      "metadata": {
        "colab": {
          "base_uri": "https://localhost:8080/"
        },
        "id": "jwUXdzILQtMf",
        "outputId": "27b7ed82-3652-4728-a6a8-ab9e20fc2f5f"
      },
      "execution_count": 28,
      "outputs": [
        {
          "output_type": "stream",
          "name": "stdout",
          "text": [
            "[[2 3 4 5]\n",
            " [4 5 6 7]\n",
            " [9 8 7 4]\n",
            " [2 5 3 4]]\n",
            "16\n"
          ]
        }
      ]
    },
    {
      "cell_type": "code",
      "source": [
        "#reshape\n",
        "a=d.reshape(8,2)\n",
        "print(a)"
      ],
      "metadata": {
        "colab": {
          "base_uri": "https://localhost:8080/"
        },
        "id": "Tzh70X6ARnIe",
        "outputId": "666f4660-07f3-4c19-bff2-5ce28491ceee"
      },
      "execution_count": 29,
      "outputs": [
        {
          "output_type": "stream",
          "name": "stdout",
          "text": [
            "[[2 3]\n",
            " [4 5]\n",
            " [4 5]\n",
            " [6 7]\n",
            " [9 8]\n",
            " [7 4]\n",
            " [2 5]\n",
            " [3 4]]\n"
          ]
        }
      ]
    },
    {
      "cell_type": "code",
      "source": [
        "#arange\n",
        "\n",
        "a=np.arange(1,10,2)\n",
        "print(a)\n"
      ],
      "metadata": {
        "colab": {
          "base_uri": "https://localhost:8080/"
        },
        "id": "Q-VNrg7bSQ7g",
        "outputId": "d7909b6c-16e8-4c5b-9532-632b88fe8930"
      },
      "execution_count": 30,
      "outputs": [
        {
          "output_type": "stream",
          "name": "stdout",
          "text": [
            "[1 3 5 7 9]\n"
          ]
        }
      ]
    },
    {
      "cell_type": "code",
      "source": [
        "#create a 5*2 matrix using arange\n",
        "\n",
        "b=np.arange(1,11).reshape(5,2)\n",
        "print(b)\n"
      ],
      "metadata": {
        "colab": {
          "base_uri": "https://localhost:8080/"
        },
        "id": "i4XTX2oeSlgq",
        "outputId": "79d4da4a-41cd-4978-cba3-24e7950eed1c"
      },
      "execution_count": 31,
      "outputs": [
        {
          "output_type": "stream",
          "name": "stdout",
          "text": [
            "[[ 1  2]\n",
            " [ 3  4]\n",
            " [ 5  6]\n",
            " [ 7  8]\n",
            " [ 9 10]]\n"
          ]
        }
      ]
    },
    {
      "cell_type": "code",
      "source": [
        "#create a 3*3 matrix with float values\n",
        "\n",
        "a=np.array([[2.5,3.6,3.5],[1.5,1.1,6.5],[7.1,2.5,7.1]])\n",
        "print(a)"
      ],
      "metadata": {
        "colab": {
          "base_uri": "https://localhost:8080/"
        },
        "id": "7miAK3AaTIg_",
        "outputId": "90be1d96-cbe9-48d8-809d-a23a4261bbfd"
      },
      "execution_count": 32,
      "outputs": [
        {
          "output_type": "stream",
          "name": "stdout",
          "text": [
            "[[2.5 3.6 3.5]\n",
            " [1.5 1.1 6.5]\n",
            " [7.1 2.5 7.1]]\n"
          ]
        }
      ]
    },
    {
      "cell_type": "code",
      "source": [
        "#FLOOR\n",
        "\n",
        "\n",
        "z=np.floor(a)\n",
        "print(z)"
      ],
      "metadata": {
        "colab": {
          "base_uri": "https://localhost:8080/"
        },
        "id": "ndJ5BU4XUd7e",
        "outputId": "4fcb20f4-ad6c-4641-9a4a-5177018ca9e5"
      },
      "execution_count": 33,
      "outputs": [
        {
          "output_type": "stream",
          "name": "stdout",
          "text": [
            "[[2. 3. 3.]\n",
            " [1. 1. 6.]\n",
            " [7. 2. 7.]]\n"
          ]
        }
      ]
    },
    {
      "cell_type": "code",
      "source": [
        "d=np.ceil(a)\n",
        "\n",
        "print(d)"
      ],
      "metadata": {
        "colab": {
          "base_uri": "https://localhost:8080/"
        },
        "id": "IsTqSeIMU-B5",
        "outputId": "70684f73-440d-4734-9f3e-7abc067a8d97"
      },
      "execution_count": 34,
      "outputs": [
        {
          "output_type": "stream",
          "name": "stdout",
          "text": [
            "[[3. 4. 4.]\n",
            " [2. 2. 7.]\n",
            " [8. 3. 8.]]\n"
          ]
        }
      ]
    },
    {
      "cell_type": "code",
      "source": [
        "e=np.round(a)\n",
        "print(z)"
      ],
      "metadata": {
        "colab": {
          "base_uri": "https://localhost:8080/"
        },
        "id": "aOIIMhZBV0ix",
        "outputId": "a719bae9-61a0-4152-e1f2-f79717553501"
      },
      "execution_count": 35,
      "outputs": [
        {
          "output_type": "stream",
          "name": "stdout",
          "text": [
            "[[2. 3. 3.]\n",
            " [1. 1. 6.]\n",
            " [7. 2. 7.]]\n"
          ]
        }
      ]
    },
    {
      "cell_type": "code",
      "source": [
        "#create a 3*3 matrix\n",
        "\n",
        "g=np.arange(1,10).reshape(3,3)\n",
        "print(g)"
      ],
      "metadata": {
        "colab": {
          "base_uri": "https://localhost:8080/"
        },
        "id": "RE-sJJpxW7Me",
        "outputId": "b9491277-f483-433c-cb65-6fe8da42848b"
      },
      "execution_count": 36,
      "outputs": [
        {
          "output_type": "stream",
          "name": "stdout",
          "text": [
            "[[1 2 3]\n",
            " [4 5 6]\n",
            " [7 8 9]]\n"
          ]
        }
      ]
    },
    {
      "cell_type": "code",
      "source": [
        "a.max() #max in the entire matrix"
      ],
      "metadata": {
        "colab": {
          "base_uri": "https://localhost:8080/"
        },
        "id": "Bj2v3le1XSyy",
        "outputId": "674b93b1-ae9a-41f7-f658-2dd3fce9ff89"
      },
      "execution_count": 37,
      "outputs": [
        {
          "output_type": "execute_result",
          "data": {
            "text/plain": [
              "np.float64(7.1)"
            ]
          },
          "metadata": {},
          "execution_count": 37
        }
      ]
    },
    {
      "cell_type": "code",
      "source": [
        "a.max(axis=1) #to find max value in each row"
      ],
      "metadata": {
        "colab": {
          "base_uri": "https://localhost:8080/"
        },
        "id": "KFh5M66EXadT",
        "outputId": "cbc44114-bd47-43ef-9829-c73e23f3053d"
      },
      "execution_count": 38,
      "outputs": [
        {
          "output_type": "execute_result",
          "data": {
            "text/plain": [
              "array([3.6, 6.5, 7.1])"
            ]
          },
          "metadata": {},
          "execution_count": 38
        }
      ]
    },
    {
      "cell_type": "markdown",
      "source": [
        "IN NUMPY    AXIS=1 -> ROW\n",
        "            AXIS=0 -> COLUMN\n",
        "\n",
        "IN PANDAS  AXIS=1 -> COLUMN\n",
        "           AXIS=0 -> ROW"
      ],
      "metadata": {
        "id": "3NcllD6nX79W"
      }
    },
    {
      "cell_type": "code",
      "source": [
        "a.max(axis=0) #to find max value in each column"
      ],
      "metadata": {
        "colab": {
          "base_uri": "https://localhost:8080/"
        },
        "id": "9hXNGgm0Xo92",
        "outputId": "0eadf23f-5fd4-4838-a236-d04dd68273e4"
      },
      "execution_count": 39,
      "outputs": [
        {
          "output_type": "execute_result",
          "data": {
            "text/plain": [
              "array([7.1, 3.6, 7.1])"
            ]
          },
          "metadata": {},
          "execution_count": 39
        }
      ]
    },
    {
      "cell_type": "code",
      "source": [
        "a.min(axis=0)"
      ],
      "metadata": {
        "colab": {
          "base_uri": "https://localhost:8080/"
        },
        "id": "sG8Nd9SlYVST",
        "outputId": "4681f22f-8ff9-4c78-960a-1d4e181b0968"
      },
      "execution_count": 40,
      "outputs": [
        {
          "output_type": "execute_result",
          "data": {
            "text/plain": [
              "array([1.5, 1.1, 3.5])"
            ]
          },
          "metadata": {},
          "execution_count": 40
        }
      ]
    },
    {
      "cell_type": "code",
      "source": [
        "a.min(axis=1)\n"
      ],
      "metadata": {
        "colab": {
          "base_uri": "https://localhost:8080/"
        },
        "id": "nTxFIbcoYYh-",
        "outputId": "48ba91a8-a83d-48bd-c2f5-d7cce533ab2b"
      },
      "execution_count": 41,
      "outputs": [
        {
          "output_type": "execute_result",
          "data": {
            "text/plain": [
              "array([2.5, 1.1, 2.5])"
            ]
          },
          "metadata": {},
          "execution_count": 41
        }
      ]
    },
    {
      "cell_type": "code",
      "source": [
        "a.min()"
      ],
      "metadata": {
        "colab": {
          "base_uri": "https://localhost:8080/"
        },
        "id": "T1bgZC10Yfn_",
        "outputId": "f1c7fc3a-a99c-4f7a-d8f9-8272835aa0dd"
      },
      "execution_count": 42,
      "outputs": [
        {
          "output_type": "execute_result",
          "data": {
            "text/plain": [
              "np.float64(1.1)"
            ]
          },
          "metadata": {},
          "execution_count": 42
        }
      ]
    },
    {
      "cell_type": "code",
      "source": [
        "a.sum()"
      ],
      "metadata": {
        "colab": {
          "base_uri": "https://localhost:8080/"
        },
        "id": "x5blCvDgjlKf",
        "outputId": "9f44282b-8f3a-445c-80e3-1ce7bd9a5f14"
      },
      "execution_count": 43,
      "outputs": [
        {
          "output_type": "execute_result",
          "data": {
            "text/plain": [
              "np.float64(35.4)"
            ]
          },
          "metadata": {},
          "execution_count": 43
        }
      ]
    },
    {
      "cell_type": "code",
      "source": [
        "a.sum(axis=1)"
      ],
      "metadata": {
        "colab": {
          "base_uri": "https://localhost:8080/"
        },
        "id": "9aCIfEl7jwZP",
        "outputId": "efc51869-b58a-4e99-cc2c-9157fe2724ec"
      },
      "execution_count": 44,
      "outputs": [
        {
          "output_type": "execute_result",
          "data": {
            "text/plain": [
              "array([ 9.6,  9.1, 16.7])"
            ]
          },
          "metadata": {},
          "execution_count": 44
        }
      ]
    },
    {
      "cell_type": "code",
      "source": [
        "a.sum(axis=0)  #column"
      ],
      "metadata": {
        "colab": {
          "base_uri": "https://localhost:8080/"
        },
        "id": "DWCDRrokj14E",
        "outputId": "00d46b34-7e5d-4770-ed5e-e0385ca14e19"
      },
      "execution_count": 45,
      "outputs": [
        {
          "output_type": "execute_result",
          "data": {
            "text/plain": [
              "array([11.1,  7.2, 17.1])"
            ]
          },
          "metadata": {},
          "execution_count": 45
        }
      ]
    },
    {
      "cell_type": "code",
      "source": [
        "np.sqrt(a) #to return square root"
      ],
      "metadata": {
        "colab": {
          "base_uri": "https://localhost:8080/"
        },
        "id": "XOi7G19dkBHI",
        "outputId": "0c4e2728-b701-44a6-c6ff-b13b4b1dfefd"
      },
      "execution_count": 46,
      "outputs": [
        {
          "output_type": "execute_result",
          "data": {
            "text/plain": [
              "array([[1.58113883, 1.8973666 , 1.87082869],\n",
              "       [1.22474487, 1.04880885, 2.54950976],\n",
              "       [2.66458252, 1.58113883, 2.66458252]])"
            ]
          },
          "metadata": {},
          "execution_count": 46
        }
      ]
    },
    {
      "cell_type": "code",
      "source": [
        "np.sin(a)"
      ],
      "metadata": {
        "colab": {
          "base_uri": "https://localhost:8080/"
        },
        "id": "hUQqNgdmkWsa",
        "outputId": "55b03d28-0a29-4c62-9a46-aa22daa2c267"
      },
      "execution_count": 48,
      "outputs": [
        {
          "output_type": "execute_result",
          "data": {
            "text/plain": [
              "array([[ 0.59847214, -0.44252044, -0.35078323],\n",
              "       [ 0.99749499,  0.89120736,  0.21511999],\n",
              "       [ 0.72896904,  0.59847214,  0.72896904]])"
            ]
          },
          "metadata": {},
          "execution_count": 48
        }
      ]
    },
    {
      "cell_type": "code",
      "source": [
        "np.cos(a)"
      ],
      "metadata": {
        "colab": {
          "base_uri": "https://localhost:8080/"
        },
        "id": "mp-dR_obkbtq",
        "outputId": "6dbbad59-c68c-42fc-937c-0d04d1ff90c5"
      },
      "execution_count": 49,
      "outputs": [
        {
          "output_type": "execute_result",
          "data": {
            "text/plain": [
              "array([[-0.80114362, -0.89675842, -0.93645669],\n",
              "       [ 0.0707372 ,  0.45359612,  0.97658763],\n",
              "       [ 0.68454667, -0.80114362,  0.68454667]])"
            ]
          },
          "metadata": {},
          "execution_count": 49
        }
      ]
    },
    {
      "cell_type": "code",
      "source": [
        "a.flatten() #to  onvert any array to one dimension"
      ],
      "metadata": {
        "colab": {
          "base_uri": "https://localhost:8080/"
        },
        "id": "Fm6wRs1Tk6EO",
        "outputId": "ed2877a1-28f6-4b95-f1a4-d3544e4f22c4"
      },
      "execution_count": 50,
      "outputs": [
        {
          "output_type": "execute_result",
          "data": {
            "text/plain": [
              "array([2.5, 3.6, 3.5, 1.5, 1.1, 6.5, 7.1, 2.5, 7.1])"
            ]
          },
          "metadata": {},
          "execution_count": 50
        }
      ]
    },
    {
      "cell_type": "code",
      "source": [
        "#sort create a 3*3 array sort\n",
        "\n",
        "a=np.array([[2,3,5],[4,9,2],[5,4,3]])\n",
        "a.ndim\n",
        "print(a)\n",
        "b=np.sort(a,axis=0)\n",
        "print(b)"
      ],
      "metadata": {
        "colab": {
          "base_uri": "https://localhost:8080/"
        },
        "id": "KONhO-calnSP",
        "outputId": "6a46fddf-52a6-42c4-d2a5-74d5a9db0bf1"
      },
      "execution_count": 53,
      "outputs": [
        {
          "output_type": "stream",
          "name": "stdout",
          "text": [
            "[[2 3 5]\n",
            " [4 9 2]\n",
            " [5 4 3]]\n",
            "[[2 3 2]\n",
            " [4 4 3]\n",
            " [5 9 5]]\n"
          ]
        }
      ]
    },
    {
      "cell_type": "code",
      "source": [
        "#sorting based on indexing\n",
        "\n",
        "c=np.argsort(a,axis=1)\n",
        "print(c)\n",
        "\n"
      ],
      "metadata": {
        "colab": {
          "base_uri": "https://localhost:8080/"
        },
        "id": "vTUYT9E8mshF",
        "outputId": "cb6a49aa-98c1-4a17-d27d-be9f4922a1c5"
      },
      "execution_count": 55,
      "outputs": [
        {
          "output_type": "stream",
          "name": "stdout",
          "text": [
            "[[0 1 2]\n",
            " [2 0 1]\n",
            " [2 1 0]]\n"
          ]
        }
      ]
    },
    {
      "cell_type": "code",
      "source": [],
      "metadata": {
        "id": "PwZwunLdoxhv"
      },
      "execution_count": null,
      "outputs": []
    }
  ]
}